{
 "cells": [
  {
   "cell_type": "code",
   "execution_count": 5,
   "metadata": {},
   "outputs": [],
   "source": [
    "import gurobipy as gp\n",
    "from gurobipy import Model,quicksum,GRB\n",
    "import matplotlib.pyplot as plt\n",
    "import time"
   ]
  },
  {
   "cell_type": "code",
   "execution_count": 6,
   "metadata": {},
   "outputs": [
    {
     "ename": "IndentationError",
     "evalue": "expected an indented block (2625845040.py, line 26)",
     "output_type": "error",
     "traceback": [
      "\u001b[1;36m  Cell \u001b[1;32mIn[6], line 26\u001b[1;36m\u001b[0m\n\u001b[1;33m    model.addConstr(n/4 <=quicksum(x) , name = 'lb x')\u001b[0m\n\u001b[1;37m    ^\u001b[0m\n\u001b[1;31mIndentationError\u001b[0m\u001b[1;31m:\u001b[0m expected an indented block\n"
     ]
    }
   ],
   "source": [
    "def heilbronn_triangle(n):\n",
    "    model = gp.Model(\"Heilbronn Triangle\")\n",
    "\n",
    "    x = model.addVars(n, vtype=GRB.CONTINUOUS, name=\"x\", lb=0, ub=1)\n",
    "    y = model.addVars(n, vtype=GRB.CONTINUOUS, name=\"y\", lb=0, ub=1)\n",
    "    S = model.addVars(n, n, n, vtype=GRB.CONTINUOUS, name=\"S\", lb=-0.5, ub=0.5)\n",
    "    b = model.addVars(n, n, n, vtype=GRB.BINARY, name=\"b\")\n",
    "    z = model.addVar(vtype=GRB.CONTINUOUS, name=\"z\", lb=0, ub=0.5)\n",
    "\n",
    "\n",
    "    model.update()\n",
    "    model.addConstr(x[0] == 0 , name = 'one point on first edge')\n",
    "    model.addConstr(x[1] == 1 , name = 'one point on second edge')\n",
    "    model.addConstr(y[2] == 0 , name = 'one point on third edge')\n",
    "    model.addConstr(y[3] == 1 , name = 'one point on forth edge')\n",
    "\n",
    "\n",
    "    for i in range(n):\n",
    "        for j in range(i + 1, n):\n",
    "            for k in range(j + 1, n):\n",
    "                model.addConstr(S[i, j, k] == 0.5 * (x[i] * (y[j] - y[k]) + x[j] * (y[k] - y[i]) + x[k] * (y[i] - y[j])), name=f\"S_constr_{i}_{j}_{k}\")\n",
    "                model.addConstr((1 - b[i, j, k]) + S[i, j, k] >= z, name=f\"linearize1_{i}_{j}_{k}\")\n",
    "                model.addConstr(b[i, j, k] - S[i, j, k] >= z, name=f\"linearize2_{i}_{j}_{k}\")\n",
    "\n",
    "    if n%2 == 0:\n",
    "        model.addConstr(n/4 <=quicksum(x) , name = 'lb x')\n",
    "        model.addConstr(quicksum(x) <= 3*n/4 , name= 'ub x')\n",
    "        model.addConstr( n/4 <= quicksum(y), name='lb y')\n",
    "        model.addConstr(quicksum(y) <= 3*n/4, name='ub y')\n",
    "    else:\n",
    "        model.addConstr((n-1)/4 <=quicksum(x) , name = 'lb x')\n",
    "        model.addConstr(quicksum(x) <= (3*n+1)/4 , name= 'ub x')\n",
    "        model.addConstr( (n-1)/4 <= quicksum(y), name='lb y')\n",
    "        model.addConstr(quicksum(y) <= (3*n+1)/4, name='ub y')\n",
    "\n",
    "    model.setObjective(z, GRB.MAXIMIZE)\n",
    "\n",
    "    startTime = time.time()\n",
    "    model.optimize()\n",
    "    optimizationTime=time.time() - startTime\n",
    "\n",
    "    if model.status == GRB.OPTIMAL:\n",
    "        print(f\"Optimal value: {z.X}\")\n",
    "        optimal_z = z.X\n",
    "        optimal_x = [x[i].X for i in range(n)]\n",
    "        optimal_y = [y[i].X for i in range(n)]\n",
    "        return optimizationTime, optimal_z, optimal_x, optimal_y\n",
    "    else:\n",
    "        print(\"No optimal solution found\")\n",
    "        return None, None\n",
    "\n"
   ]
  },
  {
   "cell_type": "code",
   "execution_count": null,
   "metadata": {},
   "outputs": [],
   "source": [
    "def plot_solution(optimal_z, optimal_x, optimal_y):\n",
    "    plt.figure(figsize=(10, 10))\n",
    "    plt.scatter(optimal_x, optimal_y, c='red')\n",
    "\n",
    "    n = len(optimal_x)\n",
    "    for i in range(n):\n",
    "        plt.annotate(f\"{i}\", (optimal_x[i], optimal_y[i]), textcoords=\"offset points\", xytext=(5, 5), ha='center')\n",
    "    x=optimal_x\n",
    "    y=optimal_y\n",
    "    z=optimal_z\n",
    "    minarea=100\n",
    "    for i in range(n):\n",
    "        for j in range(i + 1, n):\n",
    "            for k in range(j + 1, n):\n",
    "                area =abs( 0.5 * (x[i] * (y[j] - y[k]) + x[j] * (y[k] - y[i]) + x[k] * (y[i] - y[j])) )\n",
    "                if area<=minarea:\n",
    "                    minarea=area\n",
    "    for i in range(n):\n",
    "        for j in range(i + 1, n):\n",
    "            for k in range(j + 1, n):\n",
    "                area =abs( 0.5 * (x[i] * (y[j] - y[k]) + x[j] * (y[k] - y[i]) + x[k] * (y[i] - y[j])) )\n",
    "                if(area == minarea):\n",
    "                    trianglex=[x[i],x[j],x[k]]\n",
    "                    triangley=[y[i],y[j],y[k]]\n",
    "                    for t in range(3):\n",
    "                        plt.plot(trianglex, triangley, 'g-')\n",
    "                    plt.fill(trianglex, triangley)\n",
    "                    print(i,j,k)\n",
    "                    print((x[i],y[i]))\n",
    "                    print((x[j],y[j]))\n",
    "                    print((x[k],y[k]))\n",
    "                    print(area)\n",
    "\n",
    "                plt.plot([optimal_x[i], optimal_x[j]], [optimal_y[i], optimal_y[j]], 'b-')\n",
    "                plt.plot([optimal_x[j], optimal_x[k]], [optimal_y[j], optimal_y[k]], 'b-')\n",
    "                plt.plot([optimal_x[k], optimal_x[i]], [optimal_y[k], optimal_y[i]], 'b-')\n",
    "\n",
    "\n",
    "    plt.xlim(0, 1)\n",
    "    plt.ylim(0, 1)\n",
    "    plt.xlabel('x')\n",
    "    plt.ylabel('y')\n",
    "    plt.title('Optimal Points and Triangles')\n",
    "    plt.grid(True)\n",
    "    plt.show()"
   ]
  },
  {
   "cell_type": "code",
   "execution_count": null,
   "metadata": {},
   "outputs": [
    {
     "ename": "ValueError",
     "evalue": "invalid literal for int() with base 10: ''",
     "output_type": "error",
     "traceback": [
      "\u001b[1;31m---------------------------------------------------------------------------\u001b[0m",
      "\u001b[1;31mValueError\u001b[0m                                Traceback (most recent call last)",
      "Cell \u001b[1;32mIn[4], line 1\u001b[0m\n\u001b[1;32m----> 1\u001b[0m n \u001b[38;5;241m=\u001b[39m \u001b[38;5;28;43mint\u001b[39;49m\u001b[43m(\u001b[49m\u001b[38;5;28;43minput\u001b[39;49m\u001b[43m(\u001b[49m\u001b[43m)\u001b[49m\u001b[43m)\u001b[49m\n\u001b[0;32m      2\u001b[0m optimizationtime , optimal_z ,optimal_x, optimal_y \u001b[38;5;241m=\u001b[39m heilbronn_triangle(n)\n\u001b[0;32m      3\u001b[0m \u001b[38;5;28mprint\u001b[39m(\u001b[38;5;124m'\u001b[39m\u001b[38;5;124mx:\u001b[39m\u001b[38;5;124m'\u001b[39m,optimal_x)\n",
      "\u001b[1;31mValueError\u001b[0m: invalid literal for int() with base 10: ''"
     ]
    }
   ],
   "source": [
    "n = 7\n",
    "optimizationtime , optimal_z ,optimal_x, optimal_y = heilbronn_triangle(n)\n",
    "print('x:',optimal_x)\n",
    "print('y:',optimal_y)\n",
    "print('Time:',optimizationtime)"
   ]
  },
  {
   "cell_type": "code",
   "execution_count": null,
   "metadata": {},
   "outputs": [],
   "source": [
    "if optimal_x is not None and optimal_y is not None:\n",
    "    plot_solution(optimal_z, optimal_x, optimal_y)"
   ]
  }
 ],
 "metadata": {
  "kernelspec": {
   "display_name": "Python 3",
   "language": "python",
   "name": "python3"
  },
  "language_info": {
   "codemirror_mode": {
    "name": "ipython",
    "version": 3
   },
   "file_extension": ".py",
   "mimetype": "text/x-python",
   "name": "python",
   "nbconvert_exporter": "python",
   "pygments_lexer": "ipython3",
   "version": "3.9.6"
  }
 },
 "nbformat": 4,
 "nbformat_minor": 2
}
